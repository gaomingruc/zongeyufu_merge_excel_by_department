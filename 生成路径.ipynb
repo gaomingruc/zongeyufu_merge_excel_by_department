{
 "cells": [
  {
   "cell_type": "code",
   "execution_count": 1,
   "metadata": {},
   "outputs": [],
   "source": [
    "import os\n",
    "import pandas as pd"
   ]
  },
  {
   "cell_type": "code",
   "execution_count": 22,
   "metadata": {},
   "outputs": [
    {
     "name": "stdout",
     "output_type": "stream",
     "text": [
      "/Users/gaoming/Library/Containers/com.microsoft.Excel/Data/总额预付表格合并/ICU_202008.xlsx\n",
      "/Users/gaoming/Library/Containers/com.microsoft.Excel/Data/总额预付表格合并/I期临床病区_202008.xlsx\n",
      "/Users/gaoming/Library/Containers/com.microsoft.Excel/Data/总额预付表格合并/VIP-I_202008.xlsx\n",
      "/Users/gaoming/Library/Containers/com.microsoft.Excel/Data/总额预付表格合并/VIP-Ⅱ_202008.xlsx\n",
      "/Users/gaoming/Library/Containers/com.microsoft.Excel/Data/总额预付表格合并/中西医结合暨老年肿瘤_202008.xlsx\n",
      "/Users/gaoming/Library/Containers/com.microsoft.Excel/Data/总额预付表格合并/中西医结合暨老年肿瘤科_202008.xlsx\n",
      "/Users/gaoming/Library/Containers/com.microsoft.Excel/Data/总额预付表格合并/乳腺中心_202008.xlsx\n",
      "/Users/gaoming/Library/Containers/com.microsoft.Excel/Data/总额预付表格合并/乳腺肿瘤内科_202008.xlsx\n",
      "/Users/gaoming/Library/Containers/com.microsoft.Excel/Data/总额预付表格合并/介入治疗科_202008.xlsx\n",
      "/Users/gaoming/Library/Containers/com.microsoft.Excel/Data/总额预付表格合并/内镜中心_202008.xlsx\n",
      "/Users/gaoming/Library/Containers/com.microsoft.Excel/Data/总额预付表格合并/医学影像科_202008.xlsx\n",
      "/Users/gaoming/Library/Containers/com.microsoft.Excel/Data/总额预付表格合并/口腔科_202008.xlsx\n",
      "/Users/gaoming/Library/Containers/com.microsoft.Excel/Data/总额预付表格合并/头颈外科_202008.xlsx\n",
      "/Users/gaoming/Library/Containers/com.microsoft.Excel/Data/总额预付表格合并/妇科肿瘤科_202008.xlsx\n",
      "/Users/gaoming/Library/Containers/com.microsoft.Excel/Data/总额预付表格合并/姑息治疗中心_202008.xlsx\n",
      "/Users/gaoming/Library/Containers/com.microsoft.Excel/Data/总额预付表格合并/康复科_202008.xlsx\n",
      "/Users/gaoming/Library/Containers/com.microsoft.Excel/Data/总额预付表格合并/放射治疗科_202008.xlsx\n",
      "/Users/gaoming/Library/Containers/com.microsoft.Excel/Data/总额预付表格合并/日间化疗病区_202008.xlsx\n",
      "/Users/gaoming/Library/Containers/com.microsoft.Excel/Data/总额预付表格合并/核医学科_202008.xlsx\n",
      "/Users/gaoming/Library/Containers/com.microsoft.Excel/Data/总额预付表格合并/泌尿外科_202008.xlsx\n",
      "/Users/gaoming/Library/Containers/com.microsoft.Excel/Data/总额预付表格合并/消化肿瘤内科_202008.xlsx\n",
      "/Users/gaoming/Library/Containers/com.microsoft.Excel/Data/总额预付表格合并/淋巴肿瘤内科_202008.xlsx\n",
      "/Users/gaoming/Library/Containers/com.microsoft.Excel/Data/总额预付表格合并/特需门诊_202008.xlsx\n",
      "/Users/gaoming/Library/Containers/com.microsoft.Excel/Data/总额预付表格合并/疼痛门诊_202008.xlsx\n",
      "/Users/gaoming/Library/Containers/com.microsoft.Excel/Data/总额预付表格合并/病理科_202008.xlsx\n",
      "/Users/gaoming/Library/Containers/com.microsoft.Excel/Data/总额预付表格合并/移植与免疫治疗病区_202008.xlsx\n",
      "/Users/gaoming/Library/Containers/com.microsoft.Excel/Data/总额预付表格合并/职工保健科_202008.xlsx\n",
      "/Users/gaoming/Library/Containers/com.microsoft.Excel/Data/总额预付表格合并/肝胆胰外一科_202008.xlsx\n",
      "/Users/gaoming/Library/Containers/com.microsoft.Excel/Data/总额预付表格合并/肝胆胰外二科_202008.xlsx\n",
      "/Users/gaoming/Library/Containers/com.microsoft.Excel/Data/总额预付表格合并/肾癌黑色素瘤内科_202008.xlsx\n",
      "/Users/gaoming/Library/Containers/com.microsoft.Excel/Data/总额预付表格合并/肿瘤内科门诊_202008.xlsx\n",
      "/Users/gaoming/Library/Containers/com.microsoft.Excel/Data/总额预付表格合并/肿瘤外科门诊_202008.xlsx\n",
      "/Users/gaoming/Library/Containers/com.microsoft.Excel/Data/总额预付表格合并/胃肠肿瘤中心一病区_202008.xlsx\n",
      "/Users/gaoming/Library/Containers/com.microsoft.Excel/Data/总额预付表格合并/胃肠肿瘤中心三病区_202008.xlsx\n",
      "/Users/gaoming/Library/Containers/com.microsoft.Excel/Data/总额预付表格合并/胃肠肿瘤中心二病区_202008.xlsx\n",
      "/Users/gaoming/Library/Containers/com.microsoft.Excel/Data/总额预付表格合并/胃肠肿瘤中心四病区_202008.xlsx\n",
      "/Users/gaoming/Library/Containers/com.microsoft.Excel/Data/总额预付表格合并/胸外一科_202008.xlsx\n",
      "/Users/gaoming/Library/Containers/com.microsoft.Excel/Data/总额预付表格合并/胸外二科_202008.xlsx\n",
      "/Users/gaoming/Library/Containers/com.microsoft.Excel/Data/总额预付表格合并/胸部肿瘤内一科_202008.xlsx\n",
      "/Users/gaoming/Library/Containers/com.microsoft.Excel/Data/总额预付表格合并/胸部肿瘤内二科_202008.xlsx\n",
      "/Users/gaoming/Library/Containers/com.microsoft.Excel/Data/总额预付表格合并/营养科门诊_202008.xlsx\n",
      "/Users/gaoming/Library/Containers/com.microsoft.Excel/Data/总额预付表格合并/超声科_202008.xlsx\n",
      "/Users/gaoming/Library/Containers/com.microsoft.Excel/Data/总额预付表格合并/骨与软组织肿瘤科_202008.xlsx\n",
      "/Users/gaoming/Library/Containers/com.microsoft.Excel/Data/总额预付表格合并/麻醉科_202008.xlsx\n"
     ]
    }
   ],
   "source": [
    "for root, dirs, files in os.walk(\"/Users/gaoming/Library/Containers/com.microsoft.Excel/Data/总额预付表格合并\"):\n",
    "    for file in sorted(files):\n",
    "        if (file[-4:] == \"xlsx\") and (file.split(\".\")[0][-2:] == \"医保\"):\n",
    "            # print(os.path.join(root, file))\n",
    "            # print(file.split(\"_\")[0])\n",
    "            print(os.path.join(root, file.split(\"_\")[0] + \"_202008.xlsx\"))"
   ]
  },
  {
   "cell_type": "code",
   "execution_count": null,
   "metadata": {},
   "outputs": [],
   "source": []
  }
 ],
 "metadata": {
  "kernelspec": {
   "display_name": "Python 3",
   "language": "python",
   "name": "python3"
  },
  "language_info": {
   "codemirror_mode": {
    "name": "ipython",
    "version": 3
   },
   "file_extension": ".py",
   "mimetype": "text/x-python",
   "name": "python",
   "nbconvert_exporter": "python",
   "pygments_lexer": "ipython3",
   "version": "3.7.3"
  }
 },
 "nbformat": 4,
 "nbformat_minor": 2
}
